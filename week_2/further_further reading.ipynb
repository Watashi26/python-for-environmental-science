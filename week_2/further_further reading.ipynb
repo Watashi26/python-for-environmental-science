{
 "cells": [
  {
   "cell_type": "markdown",
   "metadata": {
    "collapsed": true
   },
   "source": [
    "# Further reading\n",
    "Here are a few interesting articles about programming I came across over the years. They give nice insights into what programming is about and what feelings you might encounter through coding. If you have any other matching articles feel free to send them to me.\n",
    "\n",
    "* [Programming sucks](http://www.stilldrinking.org/programming-sucks)\n",
    "* [Why learning to program is hard](https://www.thinkful.com/blog/why-learning-to-code-is-so-damn-hard/)\n",
    "* [Things I wish someone had told me when I was learning how to code](https://medium.freecodecamp.org/things-i-wish-someone-had-told-me-when-i-was-learning-how-to-code-565fc9dcb329)\n",
    "* [Why Coding Is Still The Most Important Job Skill Of The Future](https://www.fastcompany.com/3060883/why-coding-is-the-job-skill-of-the-future-for-everyone)\n",
    "* [A guide to parentheses in Python](http://blog.lerner.co.il/python-parentheses-primer/)\n"
   ]
  }
 ],
 "metadata": {
  "kernelspec": {
   "display_name": "Python 3",
   "language": "python",
   "name": "python3"
  },
  "language_info": {
   "codemirror_mode": {
    "name": "ipython",
    "version": 3
   },
   "file_extension": ".py",
   "mimetype": "text/x-python",
   "name": "python",
   "nbconvert_exporter": "python",
   "pygments_lexer": "ipython3",
   "version": "3.6.1"
  }
 },
 "nbformat": 4,
 "nbformat_minor": 1
}
