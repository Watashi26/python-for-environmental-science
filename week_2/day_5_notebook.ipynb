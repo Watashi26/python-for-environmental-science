{
 "cells": [
  {
   "cell_type": "markdown",
   "metadata": {},
   "source": [
    "# Python for Environmental Science Day 5\n",
    "## Topics\n",
    "* String Manipulation\n",
    "* Datetime\n",
    "* Reading and Writing\n"
   ]
  },
  {
   "cell_type": "markdown",
   "metadata": {},
   "source": [
    "## String Manipulation\n",
    "Strings in Python are a bit special, because they behave like a list in many regards. For example you can get slices of strings. "
   ]
  },
  {
   "cell_type": "code",
   "execution_count": 1,
   "metadata": {
    "scrolled": false
   },
   "outputs": [
    {
     "name": "stdout",
     "output_type": "stream",
     "text": [
      "au\n"
     ]
    }
   ],
   "source": [
    "name = \"Paula\"\n",
    "print(name[1:3])"
   ]
  },
  {
   "cell_type": "markdown",
   "metadata": {},
   "source": [
    "You can loop over them."
   ]
  },
  {
   "cell_type": "code",
   "execution_count": 2,
   "metadata": {
    "scrolled": false
   },
   "outputs": [
    {
     "name": "stdout",
     "output_type": "stream",
     "text": [
      "b\n",
      "a\n",
      "n\n",
      "a\n",
      "n\n",
      "a\n"
     ]
    }
   ],
   "source": [
    "for character in \"banana\":\n",
    "    print(character)"
   ]
  },
  {
   "cell_type": "markdown",
   "metadata": {},
   "source": [
    "And a large quantity of special functions exists, that merely handle strings. They are usually called from the string itself."
   ]
  },
  {
   "cell_type": "code",
   "execution_count": 3,
   "metadata": {
    "scrolled": false
   },
   "outputs": [
    {
     "name": "stdout",
     "output_type": "stream",
     "text": [
      "Fireball\n",
      "FIREBALL\n"
     ]
    }
   ],
   "source": [
    "spell = \"fireball\"\n",
    "print(spell.capitalize())\n",
    "print(spell.upper())"
   ]
  },
  {
   "cell_type": "code",
   "execution_count": null,
   "metadata": {},
   "outputs": [],
   "source": [
    "\"bla\".upper()"
   ]
  },
  {
   "cell_type": "markdown",
   "metadata": {},
   "source": [
    "So you see that you can do much with strings. But there is one thing you cannot do: change parts of them. Strings are immutable. This makes them very handy as dictionary keys. \n",
    "\n",
    "To get a further introduction to strings take a look at those videos:\n",
    "\n",
    "* [Usage of \" \" and ' '](https://youtu.be/iAzShkKzpJo)\n",
    "* [Indexing, loops](https://youtu.be/SE4P7IVCunE) (you can stop watching at 21.30 min ... or continue watching if you want to learn a bit about computer science)\n",
    "* [Getting nicer string output](https://youtu.be/jA5LW3bR0Us)\n",
    "* [Escape characters](https://youtu.be/ktpW7NESuXA)\n",
    "\n",
    "And take a look at [this text](https://docs.python.org/2.4/lib/string-methods.html) to get an overview of string methods.\n"
   ]
  },
  {
   "cell_type": "markdown",
   "metadata": {},
   "source": [
    "### Practice Questions\n",
    "* What are escape characters?\n",
    "* Which purpose serve \\n and \\t?\n",
    "* What is the problem in the following line?"
   ]
  },
  {
   "cell_type": "code",
   "execution_count": null,
   "metadata": {
    "collapsed": true,
    "scrolled": false
   },
   "outputs": [],
   "source": [
    "print(\"I'm learning to program')"
   ]
  },
  {
   "cell_type": "markdown",
   "metadata": {},
   "source": [
    "* What does **\"Hello World!\"[-1]** evaluate to?\n",
    "* What does **\"Hello\".upper().isupper()** evaluate to?\n",
    "* How can you trim whitespaces from a string?"
   ]
  },
  {
   "cell_type": "code",
   "execution_count": 5,
   "metadata": {},
   "outputs": [
    {
     "data": {
      "text/plain": [
       "'bb'"
      ]
     },
     "execution_count": 5,
     "metadata": {},
     "output_type": "execute_result"
    }
   ],
   "source": [
    "\"b     b\".replace(\" \", \"\")"
   ]
  },
  {
   "cell_type": "code",
   "execution_count": null,
   "metadata": {},
   "outputs": [],
   "source": [
    "print('he said: \"hello\"')"
   ]
  },
  {
   "cell_type": "markdown",
   "metadata": {},
   "source": [
    "### Exercise 1\n",
    "Write a function that accepts two parameters: character and word, counts how often said character appears in the word and returns the amount.\n",
    "\n",
    "\n",
    "\n"
   ]
  },
  {
   "cell_type": "code",
   "execution_count": null,
   "metadata": {
    "collapsed": true,
    "scrolled": true
   },
   "outputs": [],
   "source": []
  },
  {
   "cell_type": "markdown",
   "metadata": {},
   "source": [
    "### Exercise 2\n",
    "Two words are anagrams if you can rearrange the letters from one to spell the other. Write a function called is_anagram that takes two strings and returns True if they are anagrams.\n",
    "\n",
    "Source. ThinkPython"
   ]
  },
  {
   "cell_type": "code",
   "execution_count": null,
   "metadata": {
    "collapsed": true,
    "scrolled": true
   },
   "outputs": [],
   "source": []
  },
  {
   "cell_type": "markdown",
   "metadata": {},
   "source": [
    "### Exercise 3\n",
    "Write a function that takes a string. The function should then capitalize all characters in it and delete all whitespaces. Finally the string should be returned together with the length of the final product as a tuple."
   ]
  },
  {
   "cell_type": "code",
   "execution_count": null,
   "metadata": {
    "collapsed": true,
    "scrolled": true
   },
   "outputs": [],
   "source": []
  },
  {
   "cell_type": "markdown",
   "metadata": {},
   "source": [
    "## Datetime\n",
    "When you start to program a bit, sooner or later you will have to work with dates and this can be quite confusing, when you have to think about leap years, timezones and many other confusing things. "
   ]
  },
  {
   "cell_type": "markdown",
   "metadata": {},
   "source": [
    "![Chilling](http://www.explainxkcd.com/wiki/images/e/e8/supervillain_plan.png)"
   ]
  },
  {
   "cell_type": "markdown",
   "metadata": {},
   "source": [
    "While this may sound like the things you will learn next will be horrible, there is a glimpse of hope on the horizon: the datetime module. While it is still a bit unwieldy it helps you a lot with anything related to dates and time. As it is a module that is already a part of your WinPython you can simply import it and ask it for the time."
   ]
  },
  {
   "cell_type": "code",
   "execution_count": 6,
   "metadata": {
    "scrolled": false
   },
   "outputs": [
    {
     "name": "stdout",
     "output_type": "stream",
     "text": [
      "2020-03-03 10:21:46.291586\n"
     ]
    }
   ],
   "source": [
    "import datetime\n",
    "print(datetime.datetime.now())"
   ]
  },
  {
   "cell_type": "markdown",
   "metadata": {},
   "source": [
    "Working with time is often aggravated by the [many misconceptions](https://infiniteundo.com/post/25326999628/falsehoods-programmers-believe-about-time) about time. Make sure you are aware of those. Take a look at [this video](https://youtu.be/RjMbCUpvIgw) to get an overview of the further functionality."
   ]
  },
  {
   "cell_type": "markdown",
   "metadata": {},
   "source": [
    "### Practice Questions\n",
    "* Why can't I just simply make my own simple calculations with dates without having to learn using datetime?\n",
    "* Can you convert strings to dates and vice versa?\n",
    "* What is a timedelta and how is it used?"
   ]
  },
  {
   "cell_type": "markdown",
   "metadata": {},
   "source": [
    "### Exercise 4\n",
    "The time module has a function called sleep, which allows you to pause your program for a defined amount of time. Use this to create a program with following specifications:\n",
    "* The program should check what time it is when it starts\n",
    "* The program should print \"Hello\" repeatedly until 10 seconds have passed since its initial startup\n",
    "* After every \"Hello\" message the program should sleep for 0.7 seconds.\n"
   ]
  },
  {
   "cell_type": "code",
   "execution_count": null,
   "metadata": {
    "collapsed": true,
    "scrolled": true
   },
   "outputs": [],
   "source": []
  },
  {
   "cell_type": "markdown",
   "metadata": {},
   "source": [
    "\n",
    "### Exercise 5\n",
    "Write a program that takes a birthday as an input and prints the user's age and the number of days until their next birthday.\n",
    "\n",
    "Hint: datetime.timedelta does not know years, find a way around it."
   ]
  },
  {
   "cell_type": "code",
   "execution_count": null,
   "metadata": {
    "collapsed": true,
    "scrolled": true
   },
   "outputs": [],
   "source": []
  },
  {
   "cell_type": "markdown",
   "metadata": {},
   "source": [
    "![](https://encrypted-tbn0.gstatic.com/images?q=tbn%3AANd9GcTx-Gmfrg5P8FXHLEkclYHfz4T2fAi4wHIfmembfRtPrZ1Cvfx_)"
   ]
  },
  {
   "cell_type": "markdown",
   "metadata": {},
   "source": [
    "### Exercise 6\n",
    "\n",
    "For two people born on different days, there is a day when one is twice as old as the other. That is their Double Day. Write a program that takes two birthdays and computes their Double Day.\n",
    "\n",
    "Hint: This might give you some headache, but the solution is simpler than you think.\n",
    "\n",
    "Hint: If you are stuck at this exercise, do all the other ones first, they are more important.\n",
    "\n",
    "Source: ThinkPython"
   ]
  },
  {
   "cell_type": "code",
   "execution_count": null,
   "metadata": {
    "collapsed": true,
    "scrolled": true
   },
   "outputs": [],
   "source": []
  },
  {
   "cell_type": "markdown",
   "metadata": {},
   "source": [
    "## Reading and Writing Files\n",
    "Up until now we hardcoded the value of variables or asked a user for input. While these are things that are quite useful, in environmental science you mainly have to deal with files that have been provided to you. After you have worked with those files, it is usually expected that you send back a file with your results. Therefore, reading and writing files is a very important skill. One important package when handling files is the os module."
   ]
  },
  {
   "cell_type": "code",
   "execution_count": 7,
   "metadata": {
    "scrolled": false
   },
   "outputs": [
    {
     "name": "stdout",
     "output_type": "stream",
     "text": [
      "C:\\Users\\Florian Jehn\\Google Drive\\Studium\\01_Diss\\Lehre\\Module\\163 python_for_environmental_scientists\\Vorlesungen\\jupyter_notebooks\\week_2\n"
     ]
    }
   ],
   "source": [
    "import os\n",
    "# Gets the current working directory\n",
    "print(os.getcwd())"
   ]
  },
  {
   "cell_type": "markdown",
   "metadata": {},
   "source": [
    "The os module helps you to find files, use the correct directory and handles your interaction with the file system overall. The reading and writing themselves are so important that they are covered in the basic Python syntax. Take a look at [this video](https://youtu.be/4mX0uPQFLDU) to get the basics and [this video](https://youtu.be/Uh2ebFW8OYM) to get a broader overview."
   ]
  },
  {
   "cell_type": "markdown",
   "metadata": {},
   "source": [
    "### Practice Questions\n",
    "* What is the difference between an absolute and a relative path?\n",
    "* What happens if an existing file is opened in write mode?\n",
    "* What is the difference between the read() and the readlines() methods?\n",
    "* What are the different modes you can use the open() function with?"
   ]
  },
  {
   "cell_type": "code",
   "execution_count": null,
   "metadata": {},
   "outputs": [],
   "source": [
    "open(\"filename.txt\", \"r\")"
   ]
  },
  {
   "cell_type": "markdown",
   "metadata": {},
   "source": [
    "### Exercise 7\n",
    "Write a function that creates 10 files in the current working directory. The files should contain a random number between 0 and 1. The name should consist of a timestamp (use time).\n",
    "\n",
    "Hint: Computers are fast, consider this with the timestamp or you might run into problems.\n",
    "\n",
    "Hint: Files need a file extension to be happy.\n",
    "\n",
    "Hint: 'with' is a very useful keyword."
   ]
  },
  {
   "cell_type": "code",
   "execution_count": null,
   "metadata": {
    "collapsed": true,
    "scrolled": true
   },
   "outputs": [],
   "source": []
  },
  {
   "cell_type": "markdown",
   "metadata": {},
   "source": [
    "### Exercise 8\n",
    "Use the files created in exercise 7. \n",
    "Your are required to do the following now:\n",
    "* Read in all the created files one after another\n",
    "* Determine if the original value saved in the files is above 0.5\n",
    "* Save the file with the original value (of the random variable) as name\n",
    "* The file should contain the timestamp converted to date format, followed by two empty lines, followed by a 1 if the original value was above 0.5 and a 0 otherwise. \n",
    "* Create new files, the old ones should not be overwritten. \n",
    "\n",
    "Hint: Use the os package to  get the file names.\n",
    "\n",
    "Hint: Consider that not all files in the directory have the file extension you want"
   ]
  },
  {
   "cell_type": "code",
   "execution_count": null,
   "metadata": {
    "collapsed": true,
    "scrolled": true
   },
   "outputs": [],
   "source": []
  }
 ],
 "metadata": {
  "kernelspec": {
   "display_name": "Python 3",
   "language": "python",
   "name": "python3"
  },
  "language_info": {
   "codemirror_mode": {
    "name": "ipython",
    "version": 3
   },
   "file_extension": ".py",
   "mimetype": "text/x-python",
   "name": "python",
   "nbconvert_exporter": "python",
   "pygments_lexer": "ipython3",
   "version": "3.7.6"
  }
 },
 "nbformat": 4,
 "nbformat_minor": 2
}
