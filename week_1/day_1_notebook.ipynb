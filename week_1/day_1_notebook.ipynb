{
 "cells": [
  {
   "cell_type": "markdown",
   "metadata": {},
   "source": [
    "# Python for Environmental Science Day 1\n",
    "## Topics\n",
    "* General Information about the Course\n",
    "* Getting started\n",
    "* Spyder\n",
    "* The interactive Shell\n",
    "* Expressions in Python\n",
    "* Storing Values in Variables\n",
    "* Data Types\n",
    "* Converting between Data Types\n",
    "* String Concatenation and Replication\n",
    "* Writing your first Program\n",
    "    * Comments\n",
    "    * Built-in Python Functions\n",
    "    * Data Type Conversion\n",
    "    "
   ]
  },
  {
   "cell_type": "markdown",
   "metadata": {},
   "source": [
    "## General Information about the Course\n",
    "* If you have the impression that something is off, wrong or super boring, please tell me, so I can make it better next time.\n",
    "* Before you come into class, you are required to have read the notebook for this day and watched all videos in it! You can also play around with the code, but this is not strictly necessary. However, it probably enables you to ask deeper questions in the course.\n",
    "* In class we will discuss the practice questions together. When we have finished, you will start working on the exercises on your own, but feel free to ask the staff for help.\n",
    "* Some videos I will send you, will have a defined starting time. This is intentional, as I think the parts of the video before the starting time have already been covered elsewhere or are not important.\n",
    "* Sometimes the topics of different videos will overlap. I could not really avoid this as I did not make them myself. However, you can also see this as a chance to review things you already heard. \n",
    "* YouTube allows you to watch videos faster! Very useful if you have the impression that someone in the video talks way to slow.\n",
    "* This course is meant to teach you programming and one big part of programming is finding answers on your own. If you are confused about something, please use [stackoverflow](https://stackoverflow.com/) and google first. Then ask the staff. \n",
    "* Jupyter notebooks are a great way to show stuff, play around and describe workflows. However, if you do your programming assignments and the longer examples, I would recommend that you use Spyder (or any other editor/IDE when you already have a preference), as it allows much easier coding. \n",
    "* For this course I used several books and MOOCs as inspiration. If you want to take a look at them yourself, here are some (in ascending order of how useful I consider them):\n",
    "\t* Books\n",
    "\t\t* Automate the boring stuff with Python (available through the library of the university)\n",
    "\t\t* [Think Python](http://www.greenteapress.com/thinkpython/thinkpython.pdf)\n",
    "\t\t* Learn Python the hard way (available through the library of the university)\n",
    "\t* MOOCs:\n",
    "\t\t* [Interactive Python](https://www.coursera.org/learn/interactive-python-1)\n",
    "\t\t* [Data Science in Python](https://www.coursera.org/learn/python-data-analysis) (challenging course)\n",
    "\t\t* [Using Python for Research](https://www.edx.org/course/using-python-research-harvardx-ph526x-0)\n",
    "\t\t* [Python for everybody](https://www.coursera.org/learn/python)\n",
    "\n"
   ]
  },
  {
   "cell_type": "markdown",
   "metadata": {},
   "source": [
    "## Getting started!\n",
    "Now that all the administrative stuff is out of the way and your WinPython is good to go, we can finally start with the course itself. And what better way is there to start a course than with an MIT lecture?\n",
    "[This video](https://youtu.be/nykOeWgQcHM?t=408s) will give you a very good introduction into programming and the topic we cover today. If you do not understand everything that is explained in the video, do not worry. We will go through all of it today. At least the programming part, not the computer science part. This is just a little extra knowledge for you."
   ]
  },
  {
   "cell_type": "markdown",
   "metadata": {},
   "source": [
    "## Spyder\n",
    "When you program, you could simply type everything in a text editor, but this is very unwieldy to use. Therefore, programmers use source code editors and integrated development environments (IDE). A code editor is just a text editor which is specifically designed for editing source code. An example for this would be Notepad++. However, those editors usually are limited in what they can do and more capable tools are needed. One of those tools are IDEs. IDEs also contain an editor, but many additional features that make your life as a programmer easier. For our course we will be using the Spyder IDE, which is already part of WinPython. To give you an impression on how Spyder works here is a short [introduction](https://youtu.be/a1P_9fGrfnU?t=3m). Do not worry too much about what code is shown in the video. It is only meant to show you how Spyder works."
   ]
  },
  {
   "cell_type": "markdown",
   "metadata": {},
   "source": [
    "## The interactive Shell \n",
    "When using Python, you often come along the problem that you want to try something out. You could easily write a whole script for everything you want to try. However, this is a large overhead if you want a quick and dirty test of how something works. For such things the interactive shell exists. Watch [this video](https://youtu.be/TjX9TzxnDxc) for a short introduction to this idea. As above do not worry about the code. We will come back to it later. \n",
    "\n",
    "The great thing about Jupyter Notebooks is that we have something similar to an interactive shell right here: "
   ]
  },
  {
   "cell_type": "code",
   "execution_count": null,
   "metadata": {},
   "outputs": [],
   "source": [
    "1"
   ]
  },
  {
   "cell_type": "markdown",
   "metadata": {},
   "source": [
    "So as you saw above the Jupyter notebook lets you easily type and test simple stuff. We can even code the infamous \"Hello World\" in our notebook:"
   ]
  },
  {
   "cell_type": "code",
   "execution_count": null,
   "metadata": {},
   "outputs": [],
   "source": [
    "print(\"Hello World!\")"
   ]
  },
  {
   "cell_type": "markdown",
   "metadata": {},
   "source": [
    "Now you try. Let the notebook print your own name.\n",
    "\n",
    "![Chilling](https://media.giphy.com/media/24xRxrDCLxhT2/200.gif)\n",
    "\n"
   ]
  },
  {
   "cell_type": "code",
   "execution_count": null,
   "metadata": {},
   "outputs": [],
   "source": [
    "# Do it!"
   ]
  },
  {
   "cell_type": "markdown",
   "metadata": {},
   "source": [
    "Obviously, this is not everything the interactive shell is capable of. Everything Python has to offer can be done in the interactive console. But usually, it is only used to test stuff. For example I often need to know which version of a package I am using. For this I simply have to type the following into the shell:"
   ]
  },
  {
   "cell_type": "code",
   "execution_count": null,
   "metadata": {},
   "outputs": [],
   "source": [
    "import pandas\n",
    "print(pandas.__version__)"
   ]
  },
  {
   "cell_type": "markdown",
   "metadata": {},
   "source": [
    "## Expressions in Python\n",
    "Expressions are the most basic kind of programming instructions. \"Expressions consist of values and operators, and they can always evaluate to a single value\". Those fancy words simply mean that you have to tell Python what it should do with the things you give it. [This video](https://youtu.be/osSrIy33nWE) puts it nicely. The most simple example would be an addition:"
   ]
  },
  {
   "cell_type": "code",
   "execution_count": null,
   "metadata": {},
   "outputs": [],
   "source": [
    "2 + 2"
   ]
  },
  {
   "cell_type": "markdown",
   "metadata": {},
   "source": [
    "A more complex one could be:"
   ]
  },
  {
   "cell_type": "code",
   "execution_count": null,
   "metadata": {},
   "outputs": [],
   "source": [
    "import math\n",
    "(356 * math.sqrt(5) ** 27) / math.sin(30)"
   ]
  },
  {
   "cell_type": "markdown",
   "metadata": {},
   "source": [
    "Still, it follows the same rules. We have operands like 356 and operators like sin. Now you try. Create an expression which consists of at least 5 operands and 4 operators. To spark your imagination [here](https://www.tutorialspoint.com/python/python_basic_operators.htm) is a list of all commonly used operators in Python."
   ]
  },
  {
   "cell_type": "markdown",
   "metadata": {},
   "source": [
    "## Storing Values in Variables\n",
    "Now we know how to calculate new values using expressions. What we do not know yet is how to store them. Storing the values you create is a basic element of every program, as you cannot write meaningful code without ever storing anything. It would be like trying to solve a very difficult math problem without being allowed to write anything down. So the way to store something in Python are variables. Variables simply connect something that is stored in your computer's memory with a name, so we can find it again. Here is a simple example:\n"
   ]
  },
  {
   "cell_type": "code",
   "execution_count": null,
   "metadata": {},
   "outputs": [],
   "source": [
    "answer = 42"
   ]
  },
  {
   "cell_type": "code",
   "execution_count": null,
   "metadata": {},
   "outputs": [],
   "source": [
    "answer"
   ]
  },
  {
   "cell_type": "markdown",
   "metadata": {},
   "source": [
    "From now on, if you ever need the number 42 you can simply type answer and you can work with it (I know this is not a very useful example, but the early ones never are). \n",
    "\n",
    "For a nice explanation of variables (and the introduction of reserved words) take a look at [this video](https://youtu.be/7KHdV6FSpo8). \n",
    "\n",
    "The guy in the video also talks about Python naming rules and good names for variables. Which of the following is 1) a working name in Python and 2) a nice name:"
   ]
  },
  {
   "cell_type": "code",
   "execution_count": null,
   "metadata": {},
   "outputs": [],
   "source": [
    "bla = \"blub\"\n",
    "23_super = \"x\"\n",
    "name = \"Paula\"\n",
    "answer_to_everything = 42 "
   ]
  },
  {
   "cell_type": "markdown",
   "metadata": {},
   "source": [
    "## Data Types\n",
    "When working with data you often come across different types of data. So for example if you have an excel spreadsheet about flowers with two columns. One is the name of the flower and the second one is the average height of it. Obviously, both columns allow you to do different things. For example, you could group all flowers of one family and take the average of the height of all flowers in that family, but if you would try to take the average of the names of all flowers in the family this would not make much sense. This is caused by the different types of data of those columns. The name column has strings in it and the height column has numeric values (probably float). The same goes for Python. Here also variables have a certain type. [This video](https://youtu.be/OH86oLzVzzw) and [this article](http://pythonvisually.com/ebook/primitive-data-types.html) explain the concept in a bit more depth. As explained in the video, the \"type\" function tells us which type a variable has. This can be very useful to determine if your program does what you expect it to do. For example what would this line here return?"
   ]
  },
  {
   "cell_type": "code",
   "execution_count": null,
   "metadata": {},
   "outputs": [],
   "source": [
    "print(type(\"bla\" * 3))"
   ]
  },
  {
   "cell_type": "markdown",
   "metadata": {},
   "source": [
    "## Converting Data Types\n",
    "Often you have to convert data types for each other. For example if you have a number saved as string, but you would like to do calculations with, you have to convert it to a number (e.g. a floating point number). This can be easily done with inbuild python function like int, float or str. \n",
    "\n"
   ]
  },
  {
   "cell_type": "code",
   "execution_count": null,
   "metadata": {},
   "outputs": [],
   "source": [
    "# define a number as a string\n",
    "number = \"5\"\n",
    "# convert it to a floating point number\n",
    "number = float(number)\n",
    "# print it\n",
    "print(number)\n",
    "print(type(number))"
   ]
  },
  {
   "cell_type": "markdown",
   "metadata": {},
   "source": [
    "## String Concatenation and Replication\n",
    "As stated in the last video, Python allows you to apply arithmetic operators to some types you would not expect. For example, normally you would not expect to add words, but this is a valid operation in Python."
   ]
  },
  {
   "cell_type": "code",
   "execution_count": null,
   "metadata": {},
   "outputs": [],
   "source": [
    "sentence = \"Cake\" + \" \" + \"is\" + \" \" + \"great\"\n",
    "print(sentence)"
   ]
  },
  {
   "cell_type": "markdown",
   "metadata": {},
   "source": [
    "Multiplication is also working:"
   ]
  },
  {
   "cell_type": "code",
   "execution_count": null,
   "metadata": {},
   "outputs": [],
   "source": [
    "sentence = 3 * sentence\n",
    "print(sentence)"
   ]
  },
  {
   "cell_type": "markdown",
   "metadata": {},
   "source": [
    "But division is not:"
   ]
  },
  {
   "cell_type": "code",
   "execution_count": null,
   "metadata": {},
   "outputs": [],
   "source": [
    "sentence = sentence / 3"
   ]
  },
  {
   "cell_type": "markdown",
   "metadata": {},
   "source": [
    "At first this might seem a bit confusing and it kind of is. But if you can imagine a useful case to apply arithmetic operators on a type, it is usually possible.\n",
    "\n",
    "This division also gave us our first error. Python is very friendly in regard to errors. Most of the time the error messages are quite helpful as they tell you what went wrong and why. So in our case Python tells us that division is not applicable to a string and an integer. If you want some additional info about what you can do with strings take a look [here](https://youtu.be/k9TUPpGqYTo) and [here](http://www.pythonforbeginners.com/concatenation/string-concatenation-and-formatting-in-python).\n",
    "\n",
    "### Practice Questions\n",
    "* Is x = y = 1 a legal assignment in Python?\n",
    "* n = 42 is a legal assignment in Python. What about 42 = n?\n",
    "* When you are using regular math, you can write xy as a shorter version of x * y. Is this ok in Python as well?\n",
    "* What does the % operator do?\n",
    "* How do you write a comment in Python?\n",
    "* What are comments used for?\n",
    "* How many comments should you write in your code?\n",
    "* What is the difference between = and == ?\n",
    "* Does it make a difference if you write n=100 instead of n = 100?\n",
    "\n",
    "\n"
   ]
  },
  {
   "cell_type": "markdown",
   "metadata": {},
   "source": [
    "### Exercise 1\n",
    "Write a program that prints characters in the shape of a \"U\". Accomplish this as simple as possible. Only use the print function and nothing else.\n",
    "\n",
    "Expected output (can look slightly different in your case):"
   ]
  },
  {
   "cell_type": "code",
   "execution_count": null,
   "metadata": {},
   "outputs": [],
   "source": [
    "*       *\n",
    "*       *\n",
    "*       *\n",
    "*       *\n",
    "* * * * *"
   ]
  },
  {
   "cell_type": "code",
   "execution_count": null,
   "metadata": {},
   "outputs": [],
   "source": []
  },
  {
   "cell_type": "markdown",
   "metadata": {},
   "source": [
    "### Exercise 2\n",
    "Write a program that prompts the user for a word and prints its first character. Use the input function for this (ask google). Strings are saved as a kind of list of their characters. Use this to access the first one."
   ]
  },
  {
   "cell_type": "code",
   "execution_count": null,
   "metadata": {},
   "outputs": [],
   "source": []
  },
  {
   "cell_type": "markdown",
   "metadata": {},
   "source": [
    "### Exercise 3\n",
    "Write a program that converts temperature from Celsius to Fahrenheit. The formula is:\n",
    "\n",
    "Fahrenheit = 1.8 * Celsius + 32\n"
   ]
  },
  {
   "cell_type": "code",
   "execution_count": null,
   "metadata": {},
   "outputs": [],
   "source": []
  },
  {
   "cell_type": "markdown",
   "metadata": {},
   "source": [
    "### Exercise 4\n",
    "Write a program that does the following things:\n",
    "* Print a greeting \n",
    "* Ask for the name of the user \n",
    "* Greet the user by name\n",
    "* Tell the user how many letters are in the name (ask google for how you count the letters in a string)\n",
    "* Ask the user what his or her height is\n",
    "* Tell the user what the height multiplied by 25 is.\n",
    "\n",
    "\n"
   ]
  },
  {
   "cell_type": "code",
   "execution_count": null,
   "metadata": {},
   "outputs": [],
   "source": []
  },
  {
   "cell_type": "markdown",
   "metadata": {},
   "source": [
    "### Exercise 5\n",
    "Write a program that does the following:\n",
    "* Asks the user to enter a number and stores it in a variable called x\n",
    "* Asks the user to enter another number and stores it in a variable called y\n",
    "* Prints out number \"x\" raised to the power \"y\"\n"
   ]
  },
  {
   "cell_type": "code",
   "execution_count": null,
   "metadata": {},
   "outputs": [],
   "source": []
  },
  {
   "cell_type": "markdown",
   "metadata": {},
   "source": [
    "### Exercise 6\n",
    "Write a program that asks the user for two numbers. Then calculate first number divided by second number (normal division), first number divided by second number (integer division) and the remainder of dividing the first number by the second number. Print the results. What differences can you see?\n",
    "\n",
    "Hint: Look up what the differences are between normal and integer division in Python"
   ]
  },
  {
   "cell_type": "code",
   "execution_count": null,
   "metadata": {},
   "outputs": [],
   "source": []
  },
  {
   "cell_type": "markdown",
   "metadata": {},
   "source": [
    "\n",
    "### Exercise 7\n",
    "Write a program that asks the user for a number and checks if it is divisible by 7 without a remainder. Simply print the results and give an explanation to the user. Do not try to use if-else for this."
   ]
  },
  {
   "cell_type": "code",
   "execution_count": null,
   "metadata": {},
   "outputs": [],
   "source": []
  },
  {
   "cell_type": "markdown",
   "metadata": {},
   "source": [
    "### Exercise 8\n",
    "Write a program that will ask the user for three integer numbers and then multiply the first two together before dividing the result by the third number. Print the results."
   ]
  },
  {
   "cell_type": "code",
   "execution_count": null,
   "metadata": {},
   "outputs": [],
   "source": []
  },
  {
   "cell_type": "markdown",
   "metadata": {},
   "source": [
    "### Exercise 9\n",
    "Calculate the circumference and area of a circle when the user enters a radius. Round the answers to 2 decimal places.\n",
    "\n",
    "Hint: You can access Pi by importing the math module."
   ]
  },
  {
   "cell_type": "code",
   "execution_count": null,
   "metadata": {},
   "outputs": [],
   "source": []
  }
 ],
 "metadata": {
  "kernelspec": {
   "display_name": "Python 3",
   "language": "python",
   "name": "python3"
  },
  "language_info": {
   "codemirror_mode": {
    "name": "ipython",
    "version": 3
   },
   "file_extension": ".py",
   "mimetype": "text/x-python",
   "name": "python",
   "nbconvert_exporter": "python",
   "pygments_lexer": "ipython3",
   "version": "3.7.6"
  }
 },
 "nbformat": 4,
 "nbformat_minor": 2
}
