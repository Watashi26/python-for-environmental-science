{
 "cells": [
  {
   "cell_type": "markdown",
   "metadata": {},
   "source": [
    "# Python for Environmental Science Day 1\n",
    "## Topics\n",
    "* General Informations about the Course\n",
    "* Getting started\n",
    "* Spyder\n",
    "* The interactive Shell\n",
    "* Expressions in Python\n",
    "* Storing Values in Variables\n",
    "* Data Types\n",
    "* String Concatenation and Replication\n",
    "* Writing your first Program\n",
    "    * Comments\n",
    "    * Built in Python Functions\n",
    "    * Data Type Conversion\n",
    "    "
   ]
  },
  {
   "cell_type": "markdown",
   "metadata": {},
   "source": [
    "## General Informations about the Course\n",
    "* This is the first iteration of this course! If you have the impression that something is off, wrong or super boring please tell me, so I can make it better next time.\n",
    "* Before you come into class you are required to have read the notebook for this day and watched all videos in it! You can also play around with the code, but this is not strictly necessary. However, it probably enables you to ask deeper questions in the course.\n",
    "* For most of the topics I will walk you through a first example intensively, then we will discuss the solution of a second example together and finally you will solve one or more examples on your own.\n",
    "* The first day (or maybe the second one as well) will not have very many exercises as at first you simply have to learn the right words to talk to Python.\n",
    "* Some videos I will send you will have a defined starting time. This is intentionally, as I think the parts of the video before the starting time are not worth watching. \n",
    "* Sometimes the topics of different videos will overlap. I could not really avoid this as I did not make them myself. But, you can also see this as a chance to review things you already heard. \n",
    "* YouTube allows you to watch videos faster! Very useful if you have the impression that someone in the video talks way to slow.\n",
    "* This course is meant to teach you programming and one big part of programming is finding answers on your own. If you are confused about something please use [stackoverflow](https://stackoverflow.com/) and google first. Then ask us. \n",
    "* Jupyter notebooks are a great way to show stuff, play around and describe workflows. However, if you do your programming assignments and the longer examples I would strongly recommend that you use Spyder, as it allows much easier coding. \n",
    "* For this course I use several books and MOOCs. If you want to take a look at them yourself here are some (in ascending order of how useful I consider them):\n",
    "\t* Books\n",
    "\t\t* Automate the boring stuff with Python (available through the library of the university)\n",
    "\t\t* [Think Python](http://www.greenteapress.com/thinkpython/thinkpython.pdf)\n",
    "\t\t* [Learn Python the hard way](http://www.souravsengupta.com/cds2015/python/LPTHW.pdf)\n",
    "\t* MOOCs:\n",
    "\t\t* [Interactive Python](https://www.coursera.org/learn/interactive-python-1)\n",
    "\t\t* [Data Science in Python](https://www.coursera.org/learn/python-data-analysis) (challenging course)\n",
    "\t\t* [Using Python for Research](https://www.edx.org/course/using-python-research-harvardx-ph526x-0)\n",
    "\t\t* [Python for everybody](https://www.coursera.org/learn/python)\n",
    "\n"
   ]
  },
  {
   "cell_type": "markdown",
   "metadata": {},
   "source": [
    "## Getting started!\n",
    "Now that all the administrative stuff is out of the way and your WinPython is good to go, we can finally start with the course itself. And what better way is there to start a course than with a MIT lecture?\n",
    "[This video](https://youtu.be/ytpJdnlu9ug?t=6m54s) will give you a very good introduction into programming and the topic we cover today. If you do not understand everything that is explained in the video do not worry. We will go through all of it today. At least the programming part, not the computer science part. This is just a little extra knowledge for you."
   ]
  },
  {
   "cell_type": "markdown",
   "metadata": {},
   "source": [
    "## Spyder\n",
    "When you program you could simply type everything in a text editor, but this is very unwieldy to use. Therefore, programmers use source code editors and integrated development environments (IDE). A code editor is just a text editor which is specifically designed for editing source code. A example for this would be Notepad ++. However, those editors usually are limited in what they can do and more capable tools are needed. On of those tools are IDEs. IDEs also contain an editor, but many additional features that make your life as a programmer easier. For our course we will be using the Spyder IDE, which is already part of WinPython. To give you an impression on how Spyder works here is a short [introduction](https://youtu.be/a1P_9fGrfnU?t=3m). Do not worry too much about what code is shown in the video. It is only meant to show you how Spyder works."
   ]
  },
  {
   "cell_type": "markdown",
   "metadata": {},
   "source": [
    "## The interactive Shell \n",
    "When using Python, you often come along the problem that you want to try something out. You could easily write a whole script for everything you want to try. However, this is a large overhead if you want a quick and dirty test of how something works. For such things the interactive shell exists. Watch [this video](https://youtu.be/TjX9TzxnDxc) for a short introduction to this idea. As above do not worry about the code. We will come back to it later. \n",
    "\n",
    "The great thing about Jupyter Notebooks is that we have something similar to a interactive shell right here: "
   ]
  },
  {
   "cell_type": "markdown",
   "metadata": {},
   "source": []
  },
  {
   "cell_type": "code",
   "execution_count": null,
   "metadata": {
    "collapsed": true
   },
   "outputs": [],
   "source": [
    "1"
   ]
  },
  {
   "cell_type": "markdown",
   "metadata": {},
   "source": [
    "So as you saw above the Jupyter notebook lets you easily type and test simple stuff. We can even code the infamous \"Hello World\" in our notebook:"
   ]
  },
  {
   "cell_type": "code",
   "execution_count": null,
   "metadata": {
    "collapsed": true
   },
   "outputs": [],
   "source": [
    "print(\"Hello World!\")"
   ]
  },
  {
   "cell_type": "markdown",
   "metadata": {},
   "source": [
    "No you try. Let the notebook print your own name.\n",
    "<p><img src=\"https://media.giphy.com/media/24xRxrDCLxhT2/200.gif\" align=\"left\">\n"
   ]
  },
  {
   "cell_type": "code",
   "execution_count": null,
   "metadata": {
    "collapsed": true
   },
   "outputs": [],
   "source": [
    "# Do it!"
   ]
  },
  {
   "cell_type": "markdown",
   "metadata": {},
   "source": [
    "Obviously, this is not everyting the interactive shell is capable off. Everything Python has to offer can be done in the interactive console. But usually, it is only used to test stuff. For example I often need to know which version of a package I am using. For this I simply have to type the following into the shell:"
   ]
  },
  {
   "cell_type": "code",
   "execution_count": null,
   "metadata": {
    "collapsed": true
   },
   "outputs": [],
   "source": [
    "import numpy\n",
    "print(numpy.__version__)"
   ]
  },
  {
   "cell_type": "markdown",
   "metadata": {},
   "source": [
    "## Expressions in Python\n",
    "Expressions are the most basic kind of of programming instructions. \"Expressions consist of values and operators, and they can always evaluate to a single value\". Those fancy words simply mean that you have to tell Python what it should do with the things you give it. [This video](https://youtu.be/osSrIy33nWE) puts it nicely. The most simple example would be an addition:"
   ]
  },
  {
   "cell_type": "code",
   "execution_count": null,
   "metadata": {
    "collapsed": true
   },
   "outputs": [],
   "source": [
    "2 + 2"
   ]
  },
  {
   "cell_type": "markdown",
   "metadata": {},
   "source": [
    "A more complex one could be:"
   ]
  },
  {
   "cell_type": "code",
   "execution_count": null,
   "metadata": {
    "collapsed": true
   },
   "outputs": [],
   "source": [
    "import math\n",
    "(356 * math.sqrt(5) ** 27) / math.sin(30)"
   ]
  },
  {
   "cell_type": "markdown",
   "metadata": {},
   "source": [
    "Still it follows the same rules. We have operands like 356 and operators like sin. Now you try. Create an expression which consists of at leat 5 operands and 4 operators. To spark your imagination [here](https://www.tutorialspoint.com/python/python_basic_operators.htm) is a list of all commonly used operators in Python."
   ]
  },
  {
   "cell_type": "markdown",
   "metadata": {},
   "source": [
    "## Storing Values in Variables\n",
    "Now we know how to new values using expressions. What we do not know yet is how to store them. Storing the values you create is a basic element of every program, as you cannot write meaningful code without ever storing anyting. It would be like trying to solve a very difficult math problem without being allowed to write anything down. So the way to store something in Python are variables. Variables simply connect something that is stored in your computers memory with a name, so we can find it again. Here is a simple example:\n"
   ]
  },
  {
   "cell_type": "code",
   "execution_count": null,
   "metadata": {
    "collapsed": true
   },
   "outputs": [],
   "source": [
    "answer = 42"
   ]
  },
  {
   "cell_type": "markdown",
   "metadata": {},
   "source": [
    "From now on, if you ever need the number 42 you can simply type answer and you can work with it (I know this is not a very useful example, but the early ones never are). \n",
    "\n",
    "For a nice explanations of variables (and the introduction of reserved words) take a look at [this video](https://youtu.be/7KHdV6FSpo8). \n",
    "\n",
    "The guy in the video also talks about Python naming rules and good names for variables. Which of the following is 1) a working name in Python and 2) a nice name:"
   ]
  },
  {
   "cell_type": "code",
   "execution_count": null,
   "metadata": {
    "collapsed": true
   },
   "outputs": [],
   "source": [
    "bla = \"blub\"\n",
    "23_super = \"x\"\n",
    "name = \"Paula\"\n",
    "answer_to_everything = 42\n",
    " "
   ]
  },
  {
   "cell_type": "markdown",
   "metadata": {},
   "source": [
    "## Data Types\n",
    "When working with data you often come across different types of data. So for example if you have an excel spreadsheet about flowers with two columns. One is the name of the flower and the second one is the average height of it. Obviously, both columns allow you to do different things. For example, you could group all flowers of one family and take the average of the height of all flowers in that family, but if you would try to take the average of the names of all flowers in the family this would not make much sense. This is caused by the different types of of data of those columns. The name column has strings in it and the height column has numeric values (probably float). The same goes for Python. Here variables also have a certain type. [This video](https://youtu.be/OH86oLzVzzw) and [this article](http://pythonvisually.com/ebook/primitive-data-types.html) explain the concept in a bit more depth. As explained in the video, the \"type\" function tells us which type a variable has. This can be very useful to determine if your program does what you expect it do to. For example what would this line here return?"
   ]
  },
  {
   "cell_type": "code",
   "execution_count": null,
   "metadata": {
    "collapsed": true
   },
   "outputs": [],
   "source": [
    "print(type(\"bla\" * 3))"
   ]
  },
  {
   "cell_type": "markdown",
   "metadata": {},
   "source": [
    "## String Concatenation and Replication\n",
    "As stated in the last video, Python allows you to apply arithmetic operators to some types you would not expect. For example, normally you would not expect to add words, but this is a valid operation in Python."
   ]
  },
  {
   "cell_type": "code",
   "execution_count": null,
   "metadata": {
    "collapsed": true
   },
   "outputs": [],
   "source": [
    "sentence = \"Cake\" + \" \" + \"is\" + \" \" + \"great\"\n",
    "print(sentence)"
   ]
  },
  {
   "cell_type": "markdown",
   "metadata": {},
   "source": [
    "Multiplication is also working:"
   ]
  },
  {
   "cell_type": "code",
   "execution_count": null,
   "metadata": {
    "collapsed": true
   },
   "outputs": [],
   "source": [
    "sentence = 3 * sentence\n",
    "print(sentence)"
   ]
  },
  {
   "cell_type": "markdown",
   "metadata": {},
   "source": [
    "But division is not:"
   ]
  },
  {
   "cell_type": "code",
   "execution_count": null,
   "metadata": {
    "collapsed": true
   },
   "outputs": [],
   "source": [
    "sentence = sentence / 3"
   ]
  },
  {
   "cell_type": "markdown",
   "metadata": {},
   "source": [
    "At first this might seem a bit confusing and it kind of is. But if you can imagine a useful case to apply arithmetic operators on a type, it is usually possible.\n",
    "\n",
    "This division also gave us our first error. Python is very friendly in regard to errors. Most of the time the error messages are quite helpful as they tell you what went wrong an why. So in our case Python tells us that division is not applicable to a string and an integer. If you want some additional info about what you can do with strings take a look [here](https://youtu.be/k9TUPpGqYTo) and [here](http://www.pythonforbeginners.com/concatenation/string-concatenation-and-formatting-in-python)."
   ]
  },
  {
   "cell_type": "markdown",
   "metadata": {},
   "source": [
    "## Exercise\n",
    "To wrap today up we will end with an exercise, that include all the things we learned today (and a bit more). You should probably use Spyder for this. \n",
    "So, here is the task:\n",
    "Write a program that does the following things:\n",
    "* Print a greeting \n",
    "* Ask for the name of the user (use the input function for this)\n",
    "* Greet the user with name\n",
    "* Tell the user how many letters there are in the name (ask google for how you count the letters in a string)\n",
    "* Ask the user what his or her height is\n",
    "* Tell the user what the height is multiplied by 25"
   ]
  }
 ],
 "metadata": {
  "kernelspec": {
   "display_name": "Python 3",
   "language": "python",
   "name": "python3"
  },
  "language_info": {
   "codemirror_mode": {
    "name": "ipython",
    "version": 3
   },
   "file_extension": ".py",
   "mimetype": "text/x-python",
   "name": "python",
   "nbconvert_exporter": "python",
   "pygments_lexer": "ipython3",
   "version": "3.6.1"
  }
 },
 "nbformat": 4,
 "nbformat_minor": 2
}
