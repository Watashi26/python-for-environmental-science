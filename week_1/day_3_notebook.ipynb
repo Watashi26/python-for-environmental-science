{
 "cells": [
  {
   "cell_type": "markdown",
   "metadata": {
    "collapsed": true
   },
   "source": [
    "# Python for Environmental Science Day 3\n",
    "## Topics\n",
    "* Functions in Python\n",
    "* Catching Errors in Python\n",
    "\n",
    "## What the heck is a function?\n",
    "Functions are time savers. A good programmer is a lazy programmer. If you have the possibility to not write something, it is usually a good idea to do so. And this is where functions come into play. They allow you to recycle code you have already written. You might not have noticed it, but you have already used functions. For example math.sqrt() is a function. A simple example for a function would be:"
   ]
  },
  {
   "cell_type": "code",
   "execution_count": null,
   "metadata": {
    "scrolled": true
   },
   "outputs": [],
   "source": [
    "def print_something():\n",
    "    print(\"How do you do, fellow python student?\")\n",
    "\n",
    "print_something()\n"
   ]
  },
  {
   "cell_type": "markdown",
   "metadata": {},
   "source": [
    "And here a little example on how to call one function in another function."
   ]
  },
  {
   "cell_type": "code",
   "execution_count": null,
   "metadata": {},
   "outputs": [],
   "source": [
    "def call_other_function():\n",
    "    print_something()\n",
    "    print_something()\n",
    "    print_something()\n",
    "\n",
    "call_other_function()"
   ]
  },
  {
   "cell_type": "markdown",
   "metadata": {},
   "source": [
    "So as you can see, functions allow you to call code again you have already written in a previous part of your program. \n",
    "\n",
    "Again, MIT gives a very good introduction [here](https://youtu.be/MjbuarJ7SE0?t=2m6s).\n",
    "### Practice Question\n",
    "\n",
    "* What is the scope of a function and what does it do?\n",
    "\n",
    "\n",
    "\n",
    "## Why functions?\n",
    "* Less work, as you can recycle code\n",
    "* Less errors, as you only have to debug once\n",
    "* Allows you to structure your code more easily\n",
    "* Allows other people (and your future self) to understand the code more easily\n",
    "\n",
    "\n",
    "## Function Characteristics\n",
    "A function consists of several parts (as mentioned in the MIT video). Here is a little overview and later we will try to understand them in more depth.\n",
    "\n",
    "\n",
    "* **Name**: What you call the function by\n",
    "* **Parameters**: You can provide functions with variables. Those variables can then be used to compute something. An additional short explanation of functions and parameters can be found [here](https://www.youtube.com/watch?v=NE97ylAnrz4).\n",
    "* **Docstring**: A docstring allows you to write a little documentation where you explain how the function works (in our stage mainly for your future self)\n",
    "* **Body**: This is where the magic happens, as here is the place for the code itself\n",
    "* **Return values**: You usually create functions to do something that creates a result. For example you could create a function that adds two numbers. The problem is that the result is \"trapped\" in our function, as it is deleted once the function terminates. But with the return keyword you can specify that your function should return the results to the main program. If you are confused about return values, take a look at [this video](https://youtu.be/PgrlkpleEuw).\n",
    "\n",
    "The following figure explains this visually (except docstrings, which are explained [here](http://www.pythonforbeginners.com/basics/python-docstrings)).\n",
    "\n",
    "![Functions](https://mpicbg-scicomp.github.io/dlbc17-python-intro/fig/python-function.svg)\n",
    "\n",
    "\n"
   ]
  },
  {
   "cell_type": "code",
   "execution_count": null,
   "metadata": {},
   "outputs": [],
   "source": [
    "# Example for a more useful function\n",
    "def add_two_numbers(number1, number2):\n",
    "    \"\"\"This function adds to numbers and returns the result\"\"\"\n",
    "    result = number1 + number2\n",
    "    return result\n",
    "    \n",
    "print(add_two_numbers(1,2))"
   ]
  },
  {
   "cell_type": "markdown",
   "metadata": {},
   "source": [
    "\n",
    "## How long should a function be?\n",
    "* Shorter is better!\n",
    "* Aim for a maximum of 15-20 lines\n",
    "* Longer functions are confusing to read and hard to debug. \n",
    "\n",
    "You can find a discussion about function length [here](https://softwareengineering.stackexchange.com/questions/133404/what-is-the-ideal-length-of-a-method-for-you).\n",
    "\n",
    "### Practice Questions\n",
    "* Functions seem confusing to me. Is this normal?\n",
    "* What is the syntax of a docstring?\n",
    "* What things should you write in your docstring?\n",
    "* Explain the concept of return values in your own words.\n",
    "* Can a function have more than one parameter and return value?\n",
    "* Can you give a function as a parameter to another function?\n",
    "* What is the difference between a normal and a keyword parameter?\n",
    "* What is allowed for a function name?\n",
    "* Can you call a function within a function?\n",
    "* What does a function return when you do not have a return statement?\n",
    "* What is \"None\"?\n",
    "* What is the difference between printing a value in a function instead of returning it?\n",
    "* Why is this a bad idea?\n",
    "\n",
    "![Chilling](https://img.devrant.com/devrant/rant/r_1367358_3pdNx.jpg)\n"
   ]
  },
  {
   "cell_type": "markdown",
   "metadata": {},
   "source": [
    "## Catching Errors in Python (Making Exceptions)\n",
    "Usually errors occur in Python when you did something wrong and this is how it is supposed to be. But problems can arise when you did nothing wrong and your program terminates. A common example is user input. Think back to the program we used yesterday where you asked the user for the price of the vacation and so forth. You just assumed that a sane person would enter a number if asked for a price, but they could have easily typed in a string. Now you have a problem, as you told the program to convert the user input to a number, but you cannot convert a word to a number in a meaningful way. And this is where error catching comes into play. \n",
    "\n",
    "It allows you to foresee such actions and tell the program what it should do if this happens. Try it for yourself."
   ]
  },
  {
   "cell_type": "code",
   "execution_count": null,
   "metadata": {},
   "outputs": [],
   "source": [
    "price = float(input(\"What is the price? \"))"
   ]
  },
  {
   "cell_type": "markdown",
   "metadata": {},
   "source": [
    "Now try the same problem with error catching."
   ]
  },
  {
   "cell_type": "code",
   "execution_count": null,
   "metadata": {},
   "outputs": [],
   "source": [
    "try:\n",
    "    price = float(input(\"What is the price? \"))\n",
    "    print(\"Good job. You managed to type a number!\")\n",
    "    break\n",
    "except ValueError:\n",
    "    print(\"This was not a number. Please try again\")    "
   ]
  },
  {
   "cell_type": "markdown",
   "metadata": {},
   "source": [
    "So we see that error catching is quite useful. An additional explanation can be found [here](https://youtu.be/nlCKrKGHSSk). In the video, different kinds of errors are explained and how to handle them. A further explanation can be found [here](https://wiki.python.org/moin/HandlingExceptions)."
   ]
  },
  {
   "cell_type": "markdown",
   "metadata": {
    "collapsed": true
   },
   "source": [
    "### Practice Questions\n",
    "* What is the difference between try-except and if-else?\n",
    "* Can I raise my own exceptions?\n",
    "* When should I use try-except?\n",
    "* What goes in the try clause? What goes in the except clause?"
   ]
  },
  {
   "cell_type": "markdown",
   "metadata": {
    "collapsed": true
   },
   "source": [
    "## Important note!\n",
    "Do not forget to write docstrings and [comments](https://i.redditmedia.com/VJKytXlRyG7b2K_DD2o5WZe0ri6eE9P24dBgbkBLZIA.jpg?fit=crop&crop=faces%2Centropy&arh=2&w=640&s=b8789096d10eacaa513e0b1ad06b9afd) in all your code!"
   ]
  },
  {
   "cell_type": "markdown",
   "metadata": {},
   "source": [
    "### Exercise 1\n",
    "Write a function that takes the volume and height of a pyramid with a quadratic base area and returns the length of one base side of the pyramid.\n",
    "\n",
    "Hint: The math package might be useful here.\n",
    "\n"
   ]
  },
  {
   "cell_type": "code",
   "execution_count": null,
   "metadata": {},
   "outputs": [],
   "source": []
  },
  {
   "cell_type": "markdown",
   "metadata": {},
   "source": [
    "### Exercise 2\n",
    "Write a Python function to find the largest of three numbers, which are provided to the function."
   ]
  },
  {
   "cell_type": "code",
   "execution_count": null,
   "metadata": {},
   "outputs": [],
   "source": []
  },
  {
   "cell_type": "markdown",
   "metadata": {},
   "source": [
    "### Exercise 3\n",
    "Write a function that takes three parameters named a,b,c (which should be integers) and returns True if a is between b and c. "
   ]
  },
  {
   "cell_type": "code",
   "execution_count": null,
   "metadata": {},
   "outputs": [],
   "source": []
  },
  {
   "cell_type": "markdown",
   "metadata": {},
   "source": [
    "### Exercise 4\n",
    "Write a function that takes a string and returns it in reversed order. Use a while loop.\n",
    "\n",
    "Hint: Remember that you can access the single characters in a string with an index.\n",
    "\n",
    "Sample string : \"bla\"\n",
    "\n",
    "Expected output : \"alb\""
   ]
  },
  {
   "cell_type": "code",
   "execution_count": null,
   "metadata": {},
   "outputs": [],
   "source": []
  },
  {
   "cell_type": "markdown",
   "metadata": {},
   "source": [
    "### Exercise 5\n",
    "Go through the following functions and determine what will be printed. When you have finished, execute the program to see if you were right. If so, great. If not, try to find out where you went wrong. Make sure you understand these exercises, if not ask questions. The mechanics behind this are essential for understanding functions.\n",
    "\n",
    "Source: ThinkPython"
   ]
  },
  {
   "cell_type": "code",
   "execution_count": null,
   "metadata": {},
   "outputs": [],
   "source": [
    "def b(z):\n",
    "    prod = a(z, z)\n",
    "    print(z, prod)\n",
    "    return prod\n",
    "def a(x, y):\n",
    "    x = x + 1\n",
    "    return x * y\n",
    "def c(x, y, z):\n",
    "    total = x + y + z\n",
    "    square = b(total)**2\n",
    "    return square\n",
    "x = 1\n",
    "y = x + 1\n",
    "print(c(x, y+3, x+y))"
   ]
  },
  {
   "cell_type": "markdown",
   "metadata": {},
   "source": [
    "### Exercise 6\n",
    "Write a function that prompts a user for numbers until the user types \"done\" and adds all the numbers together. Then return the sum and print it. Make sure that the program knows what to do if the user enters anything that is neither a number nor \"done\". \n",
    "\n",
    "Hint: You need try and except for this one. Try to think about which parts of the program might throw an error. Only those should be in the try except."
   ]
  },
  {
   "cell_type": "code",
   "execution_count": null,
   "metadata": {},
   "outputs": [],
   "source": []
  },
  {
   "cell_type": "markdown",
   "metadata": {},
   "source": [
    "### Exercise 7\n",
    "Write a function named collatz() that has one parameter named number. If\n",
    "number is even, then collatz() should print number / 2 and return this value.\n",
    "If number is odd, then collatz() should print and return 3 * number + 1.\n",
    "\n",
    "Then write a program that lets the user type in an integer and that keeps\n",
    "calling collatz() on that number until the function returns the value 1.\n",
    "(Amazingly enough, this sequence actually works for any integer—sooner\n",
    "or later, using this sequence, you’ll arrive at 1! Even mathematicians aren’t\n",
    "sure why. Your program is exploring what’s called the Collatz sequence, sometimes called “the simplest impossible math problem.”)\n",
    "\n",
    "Remember to convert the return value from input() to an integer with\n",
    "the int() function; otherwise, it will be a string value.\n",
    "\n",
    "Hint: An integer number is even if number % 2 == 0, and it’s odd if\n",
    "number % 2 == 1.\n",
    "\n",
    "Hint: It makes sense to split this in two functions. One function that does the collatz calculation and one function that asks the user for an input and calls collatz repeatedly until the result is 1. \n",
    "\n",
    "The output of this program could look something like this:"
   ]
  },
  {
   "cell_type": "code",
   "execution_count": null,
   "metadata": {},
   "outputs": [],
   "source": [
    "Enter number:\n",
    "3\n",
    "10\n",
    "5\n",
    "16\n",
    "8\n",
    "4\n",
    "2\n",
    "1"
   ]
  },
  {
   "cell_type": "markdown",
   "metadata": {},
   "source": [
    "Source: Automate the boring stuff with Python\n"
   ]
  },
  {
   "cell_type": "code",
   "execution_count": null,
   "metadata": {},
   "outputs": [],
   "source": []
  },
  {
   "cell_type": "markdown",
   "metadata": {},
   "source": [
    "### Exercise 8\n",
    "\n",
    "Write a function named fibonacci(n) that takes an integer n as parameter and prints the n-th element of the Fibonacci sequence.\n",
    "You can prompt the user to specify which element he wants to calculate.\n",
    "\n",
    "Hint: Think about how the sequence starts and how many elements of the sequence you need to calculate for the next one.\n"
   ]
  },
  {
   "cell_type": "code",
   "execution_count": null,
   "metadata": {},
   "outputs": [],
   "source": []
  },
  {
   "cell_type": "markdown",
   "metadata": {},
   "source": [
    "### Exercise 9\n",
    "Write a program consisting of three functions:\n",
    "\n",
    "def random_num: should return a random number between 10 and 100\n",
    "\n",
    "def check_num: should take a number and return True if the number is smaller than 20 and False otherwise\n",
    "\n",
    "def printer: should take a boolean value and print 1 if the value is True and 0 otherwise\n",
    "\n",
    "The program should call printer ten times. Printer should be called with check_num as an argument and check_num should be called with random_num as an argument.\n",
    "\n",
    "Hint: Make sure you understand, what arguments and parameters are in Python."
   ]
  },
  {
   "cell_type": "code",
   "execution_count": null,
   "metadata": {},
   "outputs": [],
   "source": []
  }
 ],
 "metadata": {
  "kernelspec": {
   "display_name": "Python 3",
   "language": "python",
   "name": "python3"
  },
  "language_info": {
   "codemirror_mode": {
    "name": "ipython",
    "version": 3
   },
   "file_extension": ".py",
   "mimetype": "text/x-python",
   "name": "python",
   "nbconvert_exporter": "python",
   "pygments_lexer": "ipython3",
   "version": "3.7.6"
  }
 },
 "nbformat": 4,
 "nbformat_minor": 2
}
