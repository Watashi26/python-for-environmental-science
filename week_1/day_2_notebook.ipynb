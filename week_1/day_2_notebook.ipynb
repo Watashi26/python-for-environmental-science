{
 "cells": [
  {
   "cell_type": "markdown",
   "metadata": {
    "collapsed": true
   },
   "source": [
    "# Python for Environmental Science Day 2\n",
    "## Topics\n",
    "* Boolean Values\n",
    "* Flow Control\n",
    "* Import Stuff"
   ]
  },
  {
   "cell_type": "markdown",
   "metadata": {},
   "source": [
    "## Getting started!\n",
    "As for yesterday, MIT provides a [great video](https://youtu.be/0jljZRnHwOI?t=53) that sums up pretty much everything we will cover today. After a little recap on string concatenation (what we already learned yesterday), it covers the basics of flow control (here called branching, yet another name for the same thing is conditionals) and later the basics of loops."
   ]
  },
  {
   "cell_type": "markdown",
   "metadata": {},
   "source": [
    "## Boolean Values\n",
    "Up until now we only used strings and numbers, but missed out on another very important data type in Python: boolean values.\n",
    "Boolean values behave a bit different in comparison to other data types. They can only have two values:\n",
    "* **True**\n",
    "\n",
    "\n",
    "or\n",
    "\n",
    "\n",
    "* **False**\n",
    "\n",
    "For a short introduction see [this video](https://youtu.be/9OK32jb_TdI). \n",
    "\n",
    "As you can see, boolean values are mostly used to compare things and to determine if variables have the values you expect them to have. To connect them two types of operators exist:\n",
    "* **Comparison operators** (==, !=, <, >, <=, >=)\n",
    "\n",
    "and\n",
    "\n",
    "* **Boolean operators** (and, or, not)\n",
    "\n",
    "Comparison operators are mainly used to compare things and boolean operators to connect and negate other statements.\n",
    "\n",
    "### Practice Questions\n",
    "\n",
    "To test your understanding here are a bunch of different boolean expressions. Let's go through them together."
   ]
  },
  {
   "cell_type": "code",
   "execution_count": null,
   "metadata": {},
   "outputs": [],
   "source": [
    "1 > 0"
   ]
  },
  {
   "cell_type": "code",
   "execution_count": null,
   "metadata": {},
   "outputs": [],
   "source": [
    "not 5 == 4"
   ]
  },
  {
   "cell_type": "code",
   "execution_count": null,
   "metadata": {},
   "outputs": [],
   "source": [
    "a = 37\n",
    "b = 50\n",
    "c = 1\n",
    "d = 1\n",
    "not(a > b and c == d) or c"
   ]
  },
  {
   "cell_type": "code",
   "execution_count": null,
   "metadata": {},
   "outputs": [],
   "source": [
    "30 <= 30 and (31 - 15) == 16"
   ]
  },
  {
   "cell_type": "code",
   "execution_count": null,
   "metadata": {},
   "outputs": [],
   "source": [
    "(\"ab\" < \"ba\") or (1 and False)"
   ]
  },
  {
   "cell_type": "markdown",
   "metadata": {},
   "source": [
    "- What are the possible values for a boolean variable?\n",
    "- Name the boolean operators and what they are used for\n",
    "- Take a guess about what comparison operator you will probably use most"
   ]
  },
  {
   "cell_type": "markdown",
   "metadata": {},
   "source": [
    "## Flow Control\n",
    "### Conditionals\n",
    "Conditionals allow your programs to take different routes. For example you want to have a program that either prints a string or the number of characters in this string. You could outcomment parts of your code to accomplish this. "
   ]
  },
  {
   "cell_type": "code",
   "execution_count": null,
   "metadata": {},
   "outputs": [],
   "source": [
    "name = \"Anna\"\n",
    "# print(name)\n",
    "print(len(name))"
   ]
  },
  {
   "cell_type": "markdown",
   "metadata": {},
   "source": [
    "But this is a rather unpractical way to do this. Here, the conditionals come into play. There are three types of conditionals in Python:\n",
    "* **if**\n",
    "* **elif**\n",
    "* **else**\n",
    "\n",
    "For an explanation of their uses watch [this video](https://youtu.be/2aA3VBdcl6A) and [here](https://youtu.be/apcI8MkJTOA) (if you did not grasp the concept from the first one) and if you are still confused [here](https://youtu.be/f4KOjWS_KZs) is yet another one. So, a more logical way to tackle our task could be the following:"
   ]
  },
  {
   "cell_type": "code",
   "execution_count": null,
   "metadata": {},
   "outputs": [],
   "source": [
    "import random\n",
    "random_num = random.randint(0,10)\n",
    "print(random_num)\n",
    "if random_num < 3:\n",
    "    print(\"smaller than three\")\n",
    "elif random_num > 3 and random_num <6:\n",
    "    print(\"between 3 and 6\")\n",
    "else:\n",
    "    print(\"all other cases\")"
   ]
  },
  {
   "cell_type": "markdown",
   "metadata": {},
   "source": [
    "As mentioned in the videos before, an important concept in Python becomes obvious:\n",
    "* Indentation\n",
    "\n",
    "Python is structured by using indentations. This just means that Python recognizes all lines in one indentation as one block. So in our example above both print statements are in different blocks.\n",
    "\n",
    "### Practice Questions\n",
    "* What happens if multiple elif blocks are True?\n",
    "* Can I have an if statement within an if statement?\n",
    "* What is the difference between \"if\" and \"elif\"?\n",
    "* How does Python know what part of the code belongs to a certain if?\n"
   ]
  },
  {
   "cell_type": "markdown",
   "metadata": {},
   "source": [
    "### Loops\n",
    "When writing code you often want to do something repeatedly. You could do this by simply writing the same code over and over again."
   ]
  },
  {
   "cell_type": "code",
   "execution_count": null,
   "metadata": {},
   "outputs": [],
   "source": [
    "i = 1\n",
    "print(i)\n",
    "i = i + 1\n",
    "print(i)\n",
    "i = i + 1\n",
    "print(i)\n",
    "i = i + 1\n",
    "print(i)"
   ]
  },
  {
   "cell_type": "markdown",
   "metadata": {},
   "source": [
    "As you can imagine, writing code this way sucks. \n",
    "\n",
    "![Chilling](https://encrypted-tbn0.gstatic.com/images?q=tbn:ANd9GcS1ku-PRz3WLK3zMkhG9jV7PMB4FZq5Z3XoSZG5usG2Q6xvdlFxjA)\n",
    "\n",
    "\n",
    "But we are not the first persons to recognize that using Python this way is not a good idea. To overcome such problems loops exist. Loops run the code in a predefined number of times (for-loop) or until a statement is not True anymore (while-loop). For a detailed explanation see [this video](https://youtu.be/6iF8Xb7Z3wQ) and [this video](https://youtu.be/FzpurxjwmsM).\n",
    "Here is a little reminder on how the [range function](https://youtu.be/0jljZRnHwOI?t=36m21s) works, which comes in handy when making for-loops. \n",
    "\n",
    "Here is the code above as a for-loop."
   ]
  },
  {
   "cell_type": "code",
   "execution_count": null,
   "metadata": {},
   "outputs": [],
   "source": [
    "for i in range(1, 5):\n",
    "    print(i)"
   ]
  },
  {
   "cell_type": "markdown",
   "metadata": {},
   "source": [
    "You can also loop over words."
   ]
  },
  {
   "cell_type": "code",
   "execution_count": null,
   "metadata": {},
   "outputs": [],
   "source": [
    "for character in \"banana\":\n",
    "    print(character)"
   ]
  },
  {
   "cell_type": "markdown",
   "metadata": {},
   "source": [
    "Why did I have to write 1 as start explicitly and 5 as end? [Answer](https://www.johndcook.com/blog/2008/06/26/why-computer-scientists-count-from-zero/)\n",
    "\n",
    "Now here is a use case for a while loop. We do not yet know how often the code will run. "
   ]
  },
  {
   "cell_type": "code",
   "execution_count": null,
   "metadata": {},
   "outputs": [],
   "source": [
    "import random\n",
    "i = 1\n",
    "while i != 5:\n",
    "    print(i)\n",
    "    i = random.randint(0,10)\n"
   ]
  },
  {
   "cell_type": "markdown",
   "metadata": {},
   "source": [
    "### Practice Questions\n",
    "* How often does **for i in range(1, 3):** loop?\n",
    "* What is the difference between a for-loop and a while-loop?\n",
    "* Loops are super confusing for me. Will I ever understand them?\n",
    "* What happens if you write **while True:**?\n",
    "* My code often looks different than the one in the solutions, but I still get the same results. Is this normal?\n"
   ]
  },
  {
   "cell_type": "markdown",
   "metadata": {},
   "source": [
    "## Break and Continue\n",
    "Often it happens that you have a loop where you calculate some stuff in the loop and this changes the way you want the program to run. One possible tool here are the continue and break keywords. In short they do the following:\n",
    "* **continue**: Ignore the code after the continue and jump back to the start of a loop\n",
    "* **break**: End the current loop, regardless of all other things and continue with the code below the loop\n",
    "\n",
    "A bit more detailed explanation can be found [here](https://youtu.be/G8ClpHu8DSE).\n",
    "\n",
    "### Practice Questions\n",
    "* Give an example for a case where you might need break\n",
    "* Can you break out of several loops at once?"
   ]
  },
  {
   "cell_type": "markdown",
   "metadata": {},
   "source": [
    "## Import Stuff\n",
    "We now already know most parts of the Python language, so in theory we could write most programs now. However, this would be a lot of work. One of the benefits of Python is its large community and as Python has been around for a while, this community has written lots and lots of useful packages. Those packages contain the code to do all kinds of things. Ranging from math function to plotting or reading and writing files. As we use WinPython, we already have the most widely used packages. We just have to import them. And in Python this is pretty easy. "
   ]
  },
  {
   "cell_type": "code",
   "execution_count": null,
   "metadata": {},
   "outputs": [],
   "source": [
    "import math\n",
    "# now we can use functions of this package\n",
    "print(\"The square root of 9 is \" + str(int(math.sqrt(9))))"
   ]
  },
  {
   "cell_type": "markdown",
   "metadata": {},
   "source": [
    "To access the functions and variables from the package simply type the name of the module, then add a dot and hit tab."
   ]
  },
  {
   "cell_type": "code",
   "execution_count": null,
   "metadata": {},
   "outputs": [],
   "source": [
    "import math # Load the module"
   ]
  },
  {
   "cell_type": "code",
   "execution_count": null,
   "metadata": {},
   "outputs": [],
   "source": [
    "math. # Hit tab and Python will show you what is in the module\n",
    "# Note: this only works in spyder"
   ]
  },
  {
   "cell_type": "markdown",
   "metadata": {},
   "source": [
    "Also, all common modules in Python have an extensive documentation on how they work. To access those simply google \"Package Name Python Documentation\"."
   ]
  },
  {
   "cell_type": "markdown",
   "metadata": {},
   "source": [
    "## Plan your Code\n",
    "Beginners often read an exercise and start to code immediately. This often leads to massive confusion, as beginners still struggle with the basic syntax and the conceptual ideas behind programming at the same time. To entangle this mess, it is usually a good idea to do those things separately. First write down what you think your program should be doing. Only when you have a good feel that the ideas you have written down might work, you should start coding. Let's look at exercise 6 of day 1 to make this more clear:\n",
    "\n",
    "\"Write a program that asks the user for two numbers. Then calculate first number divided by second number (normal division), first number divided by second number (integer division) and the remainder of dividing the first number by the second number. Print the results. What differences can you see?\"\n",
    "\n",
    "And a possible way to write this program down would be:"
   ]
  },
  {
   "cell_type": "code",
   "execution_count": null,
   "metadata": {},
   "outputs": [],
   "source": [
    "# Ask the user for the first number\n",
    "# Ask the user for the second number\n",
    "# Calculate first number divided (normal) by the second number and store it in a variable\n",
    "# Calculate first number divided (integer) by the second number and store it in a variable\n",
    "# Calculate the remainder of the division of the first number by the second number and store it in a variable\n",
    "# Print the results of all three calculations"
   ]
  },
  {
   "cell_type": "markdown",
   "metadata": {},
   "source": [
    "Now you only have to translate this comments to code, which is much easier than trying to find a working concept and the right way to code it in Python at the same time."
   ]
  },
  {
   "cell_type": "markdown",
   "metadata": {},
   "source": [
    "## Finding Errors\n",
    "Even if you have planned your code, errors will still occur. To make finding them easier, try the following:\n",
    "* Add additional print statements in your code, to check if variables have the values you think they have.\n",
    "* Use the type() function to check whether something has the type, you assume it has.\n",
    "* Test new functions, you want to use, in the interactive console. This way you can check, if they do what you assume.\n",
    "* Use a debugger. See [here](https://youtu.be/2Wnmocwz7u0) for a little tutorial (unfortunately the explanation is a bit all over the place. If the video left you still confused about the debugger, ask me). A written explanation can be found in this [stackoverflow question](https://stackoverflow.com/questions/28280308/how-do-i-debug-efficiently-with-spyder-in-python).\n",
    "* When you are using spyder, take a look at the variable explorer."
   ]
  },
  {
   "cell_type": "markdown",
   "metadata": {},
   "source": [
    "### Exercise 1\n",
    "Write a program that prints the numbers 1 to 10 using a for-loop"
   ]
  },
  {
   "cell_type": "code",
   "execution_count": null,
   "metadata": {},
   "outputs": [],
   "source": []
  },
  {
   "cell_type": "markdown",
   "metadata": {},
   "source": [
    "### Exercise 2\n",
    "The time module provides you with a function also named time. This function returns you the seconds that have passed since 1 January 1970. Write a program that saves the value that the time function gives you in a variable. Then use this value to calculate how many minutes have passed since 1 January 1970 and print it."
   ]
  },
  {
   "cell_type": "code",
   "execution_count": null,
   "metadata": {},
   "outputs": [],
   "source": []
  },
  {
   "cell_type": "markdown",
   "metadata": {},
   "source": [
    "### Exercise 3\n",
    " Write a Python program to find the operating system name, platform name and platform release version. \n",
    " \n",
    " Hint: There are modules for that"
   ]
  },
  {
   "cell_type": "code",
   "execution_count": null,
   "metadata": {},
   "outputs": [],
   "source": []
  },
  {
   "cell_type": "markdown",
   "metadata": {},
   "source": [
    "### Exercise 4\n",
    "Long ago smart Greek people had three sticks and they wanted to know if they could form a triangle with those sticks. They found that if any of the sticks is longer than the sum of the other two, they could not form a triangle. Write a program that prompts the user for three stick lengths. Then determine if the triangle is valid. Print your results to the user. "
   ]
  },
  {
   "cell_type": "code",
   "execution_count": null,
   "metadata": {},
   "outputs": [],
   "source": []
  },
  {
   "cell_type": "markdown",
   "metadata": {},
   "source": [
    "### Exercise 5\n",
    "Write a program to recreate the following pattern, using loops. \n",
    "\n",
    "Hint: Doing this with a lot of math is the hard way. Be lazy!"
   ]
  },
  {
   "cell_type": "code",
   "execution_count": null,
   "metadata": {},
   "outputs": [],
   "source": [
    "1\n",
    "22\n",
    "333\n",
    "4444\n",
    "55555\n",
    "666666\n",
    "7777777"
   ]
  },
  {
   "cell_type": "code",
   "execution_count": null,
   "metadata": {},
   "outputs": [],
   "source": []
  },
  {
   "cell_type": "markdown",
   "metadata": {},
   "source": [
    "### Exercise 6\n",
    "Write a program that has a variable called month and prints the number of days in a month, depending on the value of month."
   ]
  },
  {
   "cell_type": "code",
   "execution_count": null,
   "metadata": {},
   "outputs": [],
   "source": []
  },
  {
   "cell_type": "markdown",
   "metadata": {},
   "source": [
    "### Exercise 7\n",
    "Write a Python program that prints all the numbers from 0 to 6 except 3 and 6.\n",
    "\n",
    "Use the 'continue' statement.\n",
    "\n",
    "Expected output : \n",
    "\n",
    "0\n",
    "\n",
    "1 \n",
    "\n",
    "2\n",
    "\n",
    "4 \n",
    "\n",
    "5 "
   ]
  },
  {
   "cell_type": "code",
   "execution_count": null,
   "metadata": {},
   "outputs": [],
   "source": []
  },
  {
   "cell_type": "markdown",
   "metadata": {},
   "source": [
    "### Exercise 8\n",
    "Write a Python program to print the numbers which are divisible by 7 and multiple of 5, between 1500 and 2700 (both included)."
   ]
  },
  {
   "cell_type": "code",
   "execution_count": null,
   "metadata": {},
   "outputs": [],
   "source": []
  },
  {
   "cell_type": "markdown",
   "metadata": {},
   "source": [
    "### Exercise 9\n",
    "As a future athlete you just started your practice for an upcoming event. Given that on the first day you run x miles, and by the event you must be able to run y miles.\n",
    "\n",
    "Calculate the number of days required for you to finally reach the required distance for the event, if you increase your distance each day by 10% from the previous day.\n",
    "\n",
    "Print one integer representing the number of days to reach the required distance. \n",
    "\n",
    "Source: Snakify"
   ]
  },
  {
   "cell_type": "code",
   "execution_count": null,
   "metadata": {},
   "outputs": [],
   "source": []
  },
  {
   "cell_type": "markdown",
   "metadata": {},
   "source": [
    "### Exercise 10\n",
    "Let us assume that you have finished your master and started saving money for your first big holiday. You want to know how many months you have to save money to be able to afford your wonderful holiday. For this you decide to write a Python program, because this will be super helpful in this case!\n",
    "Consider the following:\n",
    "* The program should ask you how much your annual salary will be, how much of this salary you want to save (as a fraction) and how much your holiday will cost. \n",
    "* You need a variable to save current savings you have (starts with 0)\n",
    "* You will have to settle for an annual return **r**. Every month you will receive current_savings * (r / 12), e.g. 4 % return of investment each year.\n",
    "* At the end of each month your current_savings will improve by the returns and the percentage of your monthly salary you wanted to save\n",
    "\n",
    "Hint: A while loop might be quite useful here.\n",
    "\n",
    "Hint: First write down what you think the program should do, start coding only after you have done this!\n",
    "\n",
    "An example output looks like this:"
   ]
  },
  {
   "cell_type": "markdown",
   "metadata": {
    "collapsed": true
   },
   "source": [
    "How expensive should the holiday be?\n",
    "\n",
    "10000\n",
    "\n",
    "How much of your monthly salary do you want to save?\n",
    "\n",
    "0.05\n",
    "\n",
    "How large is your annual salary?\n",
    "\n",
    "25000\n",
    "\n",
    "You need to save for 84 months to afford your holiday."
   ]
  },
  {
   "cell_type": "code",
   "execution_count": null,
   "metadata": {},
   "outputs": [],
   "source": []
  },
  {
   "cell_type": "markdown",
   "metadata": {},
   "source": [
    "### Exercise 11\n",
    "Program a guessing game which randomly picks a number between 1 and 20 (both numbers included) and asks you to guess which number the program chose. When you win, the program should congratulate to your great victory and state the number of guesses you took. To have a better chance, the program should tell you after every wrong guess whether your guess was too low or too high.\n",
    "\n",
    "Hint: Do you remember the import stuff? There is a good chance that there is a package which allows you to create random numbers.\n"
   ]
  },
  {
   "cell_type": "code",
   "execution_count": null,
   "metadata": {},
   "outputs": [],
   "source": []
  },
  {
   "cell_type": "markdown",
   "metadata": {},
   "source": [
    "### Exercise 12\n",
    "Write a Python program to check if a triangle is equilateral, isosceles or scalene. \n",
    "\n",
    "Hint:\n",
    "An equilateral triangle is a triangle in which all three sides are equal.\n",
    "A scalene triangle is a triangle that has three unequal sides.\n",
    "An isosceles triangle is a triangle with (at least) two equal sides.\n",
    "\n",
    "Source: w3resource.com"
   ]
  },
  {
   "cell_type": "code",
   "execution_count": null,
   "metadata": {},
   "outputs": [],
   "source": []
  },
  {
   "cell_type": "markdown",
   "metadata": {},
   "source": [
    "### Exercise 13\n",
    "Write a Python program to check the validity of a password input by a user. You should prompt the user until a valid password is entered.\n",
    "\n",
    "Validation :\n",
    "* At least 1 letter between [a-z] and 1 letter between [A-Z].\n",
    "* At least 1 number between [0-9].\n",
    "* Minimum length 6 characters.\n",
    "* Maximum length 16 characters.\n",
    "\n",
    "Hint: The 'string' module can be quite helpful here to get the characters to compare to.\n",
    "\n",
    "Hint: You can iterate over strings (e.g. for character in \"hallo\":).\n",
    "\n",
    "Hint: You can check if something is contained in something else using 'in' (e.g. \"a\" in \"Hallo\").\n",
    "\n",
    "Hint: Consider using variables that save if you have found a character that fulfills the conditions.\n",
    "\n",
    "Source: w3resource.com"
   ]
  },
  {
   "cell_type": "code",
   "execution_count": null,
   "metadata": {},
   "outputs": [],
   "source": []
  }
 ],
 "metadata": {
  "kernelspec": {
   "display_name": "Python 3",
   "language": "python",
   "name": "python3"
  },
  "language_info": {
   "codemirror_mode": {
    "name": "ipython",
    "version": 3
   },
   "file_extension": ".py",
   "mimetype": "text/x-python",
   "name": "python",
   "nbconvert_exporter": "python",
   "pygments_lexer": "ipython3",
   "version": "3.7.6"
  }
 },
 "nbformat": 4,
 "nbformat_minor": 1
}
